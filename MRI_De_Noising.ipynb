{
  "nbformat": 4,
  "nbformat_minor": 0,
  "metadata": {
    "colab": {
      "provenance": [],
      "authorship_tag": "ABX9TyP4G2psLWQyT9MUl7sXqo9o",
      "include_colab_link": true
    },
    "kernelspec": {
      "name": "python3",
      "display_name": "Python 3"
    },
    "language_info": {
      "name": "python"
    }
  },
  "cells": [
    {
      "cell_type": "markdown",
      "metadata": {
        "id": "view-in-github",
        "colab_type": "text"
      },
      "source": [
        "<a href=\"https://colab.research.google.com/github/FatemehAbediK/image-processing/blob/main/MRI_De_Noising.ipynb\" target=\"_parent\"><img src=\"https://colab.research.google.com/assets/colab-badge.svg\" alt=\"Open In Colab\"/></a>"
      ]
    },
    {
      "cell_type": "code",
      "execution_count": null,
      "metadata": {
        "id": "zv-9XZnw4LoU"
      },
      "outputs": [],
      "source": []
    },
    {
      "cell_type": "code",
      "source": [
        "##DICOM file\n",
        "pip install pydicom"
      ],
      "metadata": {
        "id": "e_17E9QHLRys"
      },
      "execution_count": null,
      "outputs": []
    },
    {
      "cell_type": "code",
      "source": [
        "import pydicom\n",
        "import matplotlib.pyplot as plt\n",
        "import numpy as np"
      ],
      "metadata": {
        "id": "fr8FL4WULX7M"
      },
      "execution_count": null,
      "outputs": []
    },
    {
      "cell_type": "code",
      "source": [
        "dataset=pydicom.dcmread(\"dicom_path\")\n",
        "img=dataset.pixel_array        #change to numoy array!\n",
        "plt.imshow(img,cmap=plt.cm.bone)\n",
        "plt.show()"
      ],
      "metadata": {
        "id": "-GZ3J1FuLX5M"
      },
      "execution_count": null,
      "outputs": []
    },
    {
      "cell_type": "code",
      "source": [
        "plt.imsave(\"path/dcm_to_tiff.tif\" ,img , cmap=\"gray\" )  #change dicom to tif"
      ],
      "metadata": {
        "id": "BpSSsgLgLX2g"
      },
      "execution_count": null,
      "outputs": []
    },
    {
      "cell_type": "markdown",
      "source": [
        "##DE NOISING\n",
        "\n",
        "#######Gussian,bilateral,total vriation(TV),wavelet,Anisotropic Diffusion,NL_means,BM3D Block-matching and 3D filtering\n",
        "\n",
        "###BM3D : BEST FOR MRI & CT\n",
        "######sigma=for how the image will be blury!"
      ],
      "metadata": {
        "id": "vkFqpIIWMVAB"
      }
    },
    {
      "cell_type": "code",
      "source": [
        "#Gaussian\n",
        "from skimage import img_as_float\n",
        "from skimage.metrics import peak_signal_noise_ratio\n",
        "from matplotlib import pyplot as plt\n",
        "from skimage import io\n",
        "from scipy import ndimage as nd\n",
        "from skimage.restoration import (denoise_tv_chambolle, denoise_bilateral,\n",
        "                                 denoise_wavelet, estimate_sigma)\n",
        "from skimage import img_as_float\n",
        "\n",
        "#just change to float to be easier!\n",
        "noisy_img = img_as_float(io.imread(\"images/MRI_images/MRI_noisy.tif\"))\n",
        "ref_img = img_as_float(io.imread(\"images/MRI_images/MRI_clean.tif\"))\n",
        "\n",
        "gaussian_img = nd.gaussian_filter(noisy_img, sigma=5)\n",
        "plt.imshow(gaussian_img, cmap='gray')\n",
        "plt.imsave(\"images/MRI_images/Gaussian_smoothed.tif\", gaussian_img, cmap='gray')\n",
        "\n",
        "#compare the peak_signal_noise_ratio\n",
        "noise_psnr = peak_signal_noise_ratio(ref_img, noisy_img)\n",
        "gaussian_cleaned_psnr = peak_signal_noise_ratio(ref_img, gaussian_img)\n",
        "print(\"PSNR of input noisy image = \", noise_psnr)\n",
        "print(\"PSNR of cleaned image = \", gaussian_cleaned_psnr)\n"
      ],
      "metadata": {
        "id": "BurBNAX4MUIC"
      },
      "execution_count": null,
      "outputs": []
    },
    {
      "cell_type": "code",
      "source": [
        "#Bilateral\n",
        "noisy_img = img_as_float(io.imread(\"images/MRI_images/MRI_noisy.tif\"))\n",
        "sigma_est = estimate_sigma(noisy_img, multichannel=True, average_sigmas=True)\n",
        "\n",
        "denoise_bilateral = denoise_bilateral(noisy_img, sigma_spatial=15,\n",
        "                multichannel=False)\n",
        "\n",
        "noise_psnr = peak_signal_noise_ratio(ref_img, noisy_img)\n",
        "bilateral_cleaned_psnr = peak_signal_noise_ratio(ref_img, denoise_bilateral)\n",
        "print(\"PSNR of input noisy image = \", noise_psnr)\n",
        "print(\"PSNR of cleaned image = \", bilateral_cleaned_psnr)\n",
        "\n",
        "plt.imsave(\"images/MRI_images/bilateral_smoothed.tif\", denoise_bilateral, cmap='gray')\n"
      ],
      "metadata": {
        "id": "SWGTR-DIPOBo"
      },
      "execution_count": null,
      "outputs": []
    },
    {
      "cell_type": "code",
      "source": [
        "#TV:\n",
        "denoise_TV = denoise_tv_chambolle(noisy_img, weight=0.3, multichannel=False)\n",
        "noise_psnr = peak_signal_noise_ratio(ref_img, noisy_img)\n",
        "TV_cleaned_psnr = peak_signal_noise_ratio(ref_img, denoise_TV)\n",
        "print(\"PSNR of input noisy image = \", noise_psnr)\n",
        "print(\"PSNR of cleaned image = \", TV_cleaned_psnr)\n",
        "plt.imsave(\"images/MRI_images/TV_smoothed.tif\", denoise_TV, cmap='gray')"
      ],
      "metadata": {
        "id": "MB3hSRpzPN-n"
      },
      "execution_count": null,
      "outputs": []
    },
    {
      "cell_type": "code",
      "source": [
        "#Wavelet:\n",
        "wavelet_smoothed = denoise_wavelet(noisy_img, multichannel=False,\n",
        "                           method='BayesShrink', mode='soft',\n",
        "                           rescale_sigma=True)\n",
        "noise_psnr = peak_signal_noise_ratio(ref_img, noisy_img)\n",
        "Wavelet_cleaned_psnr = peak_signal_noise_ratio(ref_img, wavelet_smoothed)\n",
        "print(\"PSNR of input noisy image = \", noise_psnr)\n",
        "print(\"PSNR of cleaned image = \", Wavelet_cleaned_psnr)\n",
        "\n",
        "plt.imsave(\"images/MRI_images/wavelet_smoothed.tif\", wavelet_smoothed, cmap='gray')\n"
      ],
      "metadata": {
        "id": "kMkkLx4KMUGc"
      },
      "execution_count": null,
      "outputs": []
    },
    {
      "cell_type": "code",
      "source": [
        "#Anisotropic Diffusion\n",
        "\n",
        "import matplotlib.pyplot as plt\n",
        "import cv2\n",
        "from skimage import io\n",
        "from medpy.filter.smoothing import anisotropic_diffusion\n",
        "from skimage import img_as_float\n",
        "from skimage.metrics import peak_signal_noise_ratio\n",
        "\n",
        "\n",
        "img = io.imread(\"MRI_images/MRI_noisy.tif\", as_gray=True)\n",
        "noisy_img = img_as_float(io.imread(\"images/MRI_images/MRI_noisy.tif\", as_gray=True))\n",
        "ref_img = img_as_float(io.imread(\"images/MRI_images/MRI_clean.tif\"))\n",
        "\n",
        "# niter= number of iterations\n",
        "#kappa = Conduction coefficient (20 to 100)\n",
        "#gamma = speed of diffusion (<=0.25)\n",
        "#Option: Perona Malik equation 1 or 2. A value of 3 is for Turkey's biweight function\n",
        "img_aniso_filtered = anisotropic_diffusion(noisy_img, niter=50, kappa=50, gamma=0.2, option=2)\n",
        "\n",
        "noise_psnr = peak_signal_noise_ratio(ref_img, noisy_img)\n",
        "anisotropic_cleaned_psnr = peak_signal_noise_ratio(ref_img, img_aniso_filtered)\n",
        "print(\"PSNR of input noisy image = \", noise_psnr)\n",
        "print(\"PSNR of cleaned image = \", anisotropic_cleaned_psnr)\n",
        "\n",
        "\n",
        "plt.imshow(img_aniso_filtered, cmap='gray')\n",
        "plt.imsave(\"images/MRI_images/anisotropic_denoised.tif\", img_aniso_filtered, cmap='gray')"
      ],
      "metadata": {
        "id": "PgbDbpCMQxP3"
      },
      "execution_count": null,
      "outputs": []
    },
    {
      "cell_type": "code",
      "source": [
        "##NLM (NON LOCAL MEANS) : 1)SKIMAGE   2)OPEN CV"
      ],
      "metadata": {
        "id": "Gc0j-7eCR3EG"
      },
      "execution_count": null,
      "outputs": []
    },
    {
      "cell_type": "code",
      "source": [
        "#NLM from SKIMAGE\n",
        "\n",
        "from skimage.restoration import denoise_nl_means, estimate_sigma\n",
        "from skimage import img_as_ubyte, img_as_float\n",
        "\n",
        "noisy_img = img_as_float(io.imread(\"images/MRI_images/MRI_noisy.tif\", as_gray=True))\n",
        "ref_img = img_as_float(io.imread(\"images/MRI_images/MRI_clean.tif\"))\n",
        "\n",
        "sigma_est = np.mean(estimate_sigma(noisy_img, multichannel=False))\n",
        "\n",
        "\n",
        "NLM_skimg_denoise_img = denoise_nl_means(noisy_img, h=1.15 * sigma_est, fast_mode=True,\n",
        "                               patch_size=9, patch_distance=5, multichannel=False)\n",
        "\n",
        "noise_psnr = peak_signal_noise_ratio(ref_img, noisy_img)\n",
        "NLM_skimg_cleaned_psnr = peak_signal_noise_ratio(ref_img, NLM_skimg_denoise_img)\n",
        "print(\"PSNR of input noisy image = \", noise_psnr)\n",
        "print(\"PSNR of cleaned image = \", NLM_skimg_cleaned_psnr)\n",
        "\n",
        "\n",
        "denoise_img_as_8byte = img_as_ubyte(NLM_skimg_denoise_img)\n",
        "\n",
        "plt.imshow(NLM_skimg_denoise_img)\n",
        "plt.imshow(denoise_img_as_8byte, cmap=plt.cm.gray, interpolation='nearest')\n",
        "plt.imsave(\"images/MRI_images/NLM_skimage_denoised.tif\", denoise_img_as_8byte, cmap='gray')"
      ],
      "metadata": {
        "id": "MAZos9pYQxM2"
      },
      "execution_count": null,
      "outputs": []
    },
    {
      "cell_type": "code",
      "source": [
        "#NLM opencv\n",
        "# https://opencv-python-tutroals.readthedocs.io/en/latest/py_tutorials/py_photo/py_non_local_means/py_non_local_means.html\n",
        "# cv2.fastNlMeansDenoising() - works with a single grayscale images\n",
        "# cv2.fastNlMeansDenoisingColored() - works with a color image.\n",
        "\n",
        "import cv2\n",
        "\n",
        "noisy_img = io.imread(\"images/MRI_images/MRI_noisy.tif\", as_gray=True)  #Only 8 bit supported for CV2 NLM\n",
        "ref_img = io.imread(\"images/MRI_images/MRI_clean.tif\")\n",
        "\n",
        "NLM_CV2_denoise_img = cv2.fastNlMeansDenoising(noisy_img, None, 3, 7, 21)\n",
        "\n",
        "plt.imsave(\"images/MRI_images/NLM_CV2_denoised.tif\", NLM_CV2_denoise_img, cmap='gray')\n",
        "plt.imshow(\"images/MRI_images/NLM_CV2_denoised.tif\", NLM_CV2_denoise_img, cmap='gray')"
      ],
      "metadata": {
        "id": "-XpzcUfoMUEW"
      },
      "execution_count": null,
      "outputs": []
    },
    {
      "cell_type": "code",
      "source": [
        "#BM3D Block-matching and 3D filtering\n",
        "#pip install bm3d\n",
        "import bm3d\n",
        "\n",
        "noisy_img = img_as_float(io.imread(\"images/MRI_images/MRI_noisy.tif\", as_gray=True))\n",
        "ref_img = img_as_float(io.imread(\"images/MRI_images/MRI_clean.tif\"))\n",
        "\n",
        "\n",
        "BM3D_denoised_image = bm3d.bm3d(noisy_img, sigma_psd=0.2, stage_arg=bm3d.BM3DStages.ALL_STAGES)\n",
        "BM3D_denoised_image = bm3d.bm3d(noisy_img, sigma_psd=0.2, stage_arg=bm3d.BM3DStages.HARD_THRESHOLDING)\n",
        "\n",
        "noise_psnr = peak_signal_noise_ratio(ref_img, noisy_img)\n",
        "BM3D_cleaned_psnr = peak_signal_noise_ratio(ref_img, BM3D_denoised_image)\n",
        "print(\"PSNR of input noisy image = \", noise_psnr)\n",
        "print(\"PSNR of cleaned image = \", BM3D_cleaned_psnr)\n",
        "\n",
        "plt.imshow(BM3D_denoised_image, cmap='gray')\n",
        "plt.imsave(\"images/MRI_images/BM3D_denoised.tif\", BM3D_denoised_image, cmap='gray')"
      ],
      "metadata": {
        "id": "wPD6tOe1MUCG"
      },
      "execution_count": null,
      "outputs": []
    },
    {
      "cell_type": "code",
      "source": [],
      "metadata": {
        "id": "ZlyFTVJgSl7q"
      },
      "execution_count": null,
      "outputs": []
    }
  ]
}